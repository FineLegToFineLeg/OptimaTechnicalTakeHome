{
 "cells": [
  {
   "cell_type": "markdown",
   "id": "fac2ede0",
   "metadata": {},
   "source": [
    "# NB_4_Gold"
   ]
  },
  {
   "cell_type": "markdown",
   "id": "bcc1d1f5",
   "metadata": {},
   "source": [
    "This notebook writes the data into gold level data sets, as set out in the specifications, ready for further use."
   ]
  },
  {
   "cell_type": "code",
   "execution_count": null,
   "id": "d58f45da",
   "metadata": {},
   "outputs": [],
   "source": [
    "# Import Packages\n",
    "import pandas as pd\n",
    "from datetime import datetime"
   ]
  },
  {
   "cell_type": "code",
   "execution_count": null,
   "id": "a0f143a0",
   "metadata": {},
   "outputs": [],
   "source": [
    "# Logging Variables\n",
    "current_time = datetime.now()\n",
    "run_id = current_time.strftime(\"%Y%m%d_%H%M%S\")"
   ]
  },
  {
   "cell_type": "code",
   "execution_count": null,
   "id": "1748e777",
   "metadata": {},
   "outputs": [],
   "source": [
    "# Run common files\n",
    "%run Notebooks/NB_1_Settings.ipynb\n",
    "%run Notebooks/NB_1_Common_Functions.ipynb"
   ]
  },
  {
   "cell_type": "code",
   "execution_count": null,
   "id": "fa20fcb8",
   "metadata": {},
   "outputs": [
    {
     "name": "stdout",
     "output_type": "stream",
     "text": [
      "Reading CSV from C:\\Users\\Joe.Pilny\\engineering-recruitment-assignments\\data-engineering\\datapipeline\\results\\silver\\race_winners.csv\n"
     ]
    }
   ],
   "source": [
    "# Read Dataset from silver\n",
    "df_race_winners = func_read_csv('race_winners.csv', v_silver_path)"
   ]
  },
  {
   "cell_type": "code",
   "execution_count": null,
   "id": "8b5aa3a4",
   "metadata": {},
   "outputs": [],
   "source": [
    "# Rename columns as required\n",
    "df_race_winners.rename(columns={\n",
    "    'name': 'Race Name',\n",
    "    'round': 'Race Round',\n",
    "    'datetime': 'Race Datetime',\n",
    "    'driverId': 'Race Winning driverId',\n",
    "    'fastestLapTime': 'Race Fastest Lap',\n",
    "    'year': 'Year'\n",
    "}, inplace=True)\n",
    "\n",
    "# Select required fields\n",
    "df_race_winners_ordered = df_race_winners[['Race Name', 'Race Round', 'Race Datetime', 'Race Winning driverId', 'Race Fastest Lap', 'Year']]\n"
   ]
  },
  {
   "cell_type": "code",
   "execution_count": null,
   "id": "10fec236",
   "metadata": {},
   "outputs": [
    {
     "name": "stdout",
     "output_type": "stream",
     "text": [
      "Writing JSON to C:\\Users\\Joe.Pilny\\engineering-recruitment-assignments\\data-engineering\\datapipeline\\results\\gold\\stats_2018.json\n",
      "Writing JSON to C:\\Users\\Joe.Pilny\\engineering-recruitment-assignments\\data-engineering\\datapipeline\\results\\gold\\stats_2019.json\n",
      "Writing JSON to C:\\Users\\Joe.Pilny\\engineering-recruitment-assignments\\data-engineering\\datapipeline\\results\\gold\\stats_2020.json\n",
      "Writing JSON to C:\\Users\\Joe.Pilny\\engineering-recruitment-assignments\\data-engineering\\datapipeline\\results\\gold\\stats_2021.json\n",
      "Writing JSON to C:\\Users\\Joe.Pilny\\engineering-recruitment-assignments\\data-engineering\\datapipeline\\results\\gold\\stats_2022.json\n",
      "Writing JSON to C:\\Users\\Joe.Pilny\\engineering-recruitment-assignments\\data-engineering\\datapipeline\\results\\gold\\stats_2023.json\n",
      "Writing JSON to C:\\Users\\Joe.Pilny\\engineering-recruitment-assignments\\data-engineering\\datapipeline\\results\\gold\\stats_2024.json\n"
     ]
    }
   ],
   "source": [
    "# Iterate through all data and write to json files\n",
    "for v_year, df_group in df_race_winners_ordered.groupby('Year'):\n",
    "    v_file_name = f'stats_{v_year}.json'\n",
    "    df_output = df_group.drop(columns = 'Year')\n",
    "    func_create_json(df_output, v_gold_path, v_file_name)"
   ]
  }
 ],
 "metadata": {
  "kernelspec": {
   "display_name": "base",
   "language": "python",
   "name": "python3"
  },
  "language_info": {
   "codemirror_mode": {
    "name": "ipython",
    "version": 3
   },
   "file_extension": ".py",
   "mimetype": "text/x-python",
   "name": "python",
   "nbconvert_exporter": "python",
   "pygments_lexer": "ipython3",
   "version": "3.12.7"
  }
 },
 "nbformat": 4,
 "nbformat_minor": 5
}
