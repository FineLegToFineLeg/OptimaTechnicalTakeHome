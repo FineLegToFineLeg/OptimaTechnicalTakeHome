{
 "cells": [
  {
   "cell_type": "markdown",
   "id": "b421800d",
   "metadata": {},
   "source": [
    "# NB_3_Silver"
   ]
  },
  {
   "cell_type": "markdown",
   "id": "f385f4fa",
   "metadata": {},
   "source": [
    "This notebook performs silver layer business logic to perform data cleaning, and curate data files for gold level transformations."
   ]
  },
  {
   "cell_type": "code",
   "execution_count": null,
   "id": "0df6bcd3",
   "metadata": {},
   "outputs": [],
   "source": [
    "# Import Packages\n",
    "import pandas as pd\n",
    "from datetime import datetime"
   ]
  },
  {
   "cell_type": "code",
   "execution_count": null,
   "id": "7fecde0b",
   "metadata": {},
   "outputs": [],
   "source": [
    "# Logging Variables\n",
    "current_time = datetime.now()\n",
    "run_id = current_time.strftime(\"%Y%m%d_%H%M%S\")"
   ]
  },
  {
   "cell_type": "code",
   "execution_count": null,
   "id": "3af5875c",
   "metadata": {},
   "outputs": [],
   "source": [
    "# Run common files\n",
    "%run Notebooks/NB_1_Settings.ipynb\n",
    "%run Notebooks/NB_1_Common_Functions.ipynb"
   ]
  },
  {
   "cell_type": "code",
   "execution_count": null,
   "id": "383f8ac7",
   "metadata": {},
   "outputs": [
    {
     "name": "stdout",
     "output_type": "stream",
     "text": [
      "Reading CSV from C:\\Users\\Joe.Pilny\\engineering-recruitment-assignments\\data-engineering\\datapipeline\\results\\bronze\\races.csv\n",
      "Reading CSV from C:\\Users\\Joe.Pilny\\engineering-recruitment-assignments\\data-engineering\\datapipeline\\results\\bronze\\results.csv\n"
     ]
    }
   ],
   "source": [
    "# Import data from bronze\n",
    "df_races = func_read_csv('races.csv', v_bronze_path)\n",
    "df_results = func_read_csv('results.csv', v_bronze_path)"
   ]
  },
  {
   "cell_type": "code",
   "execution_count": 17,
   "id": "ce1adfdd",
   "metadata": {},
   "outputs": [],
   "source": [
    "# Handle nulls in time column\n",
    "df_races['time'] = df_races['time'].fillna('00:00:00')\n",
    "\n",
    "# Convert and merge columns\n",
    "df_races['datetime'] = pd.to_datetime(df_races['date'] + ' ' + df_races['time'], format = '%Y-%m-%d %H:%M:%S')\n",
    "df_races['datetime'] = df_races['datetime'].dt.strftime('%Y-%m-%dT%H:%M:%S.%f').str[:-3]"
   ]
  },
  {
   "cell_type": "code",
   "execution_count": 27,
   "id": "9ceb06bf",
   "metadata": {},
   "outputs": [],
   "source": [
    "# Change type on key columns\n",
    "df_results['position'] = df_results['position'].astype('Int64')"
   ]
  },
  {
   "cell_type": "code",
   "execution_count": 28,
   "id": "e07d2d63",
   "metadata": {},
   "outputs": [],
   "source": [
    "# Select Required fields\n",
    "df_races_select = df_races[['raceId', 'year', 'round', 'name', 'datetime']]\n",
    "df_results_select = df_results[['raceId', 'driverId', 'position', 'fastestLapTime']]\n",
    "\n",
    "# Set indexes\n",
    "df_races_indexed = df_races_select.set_index('raceId')\n",
    "df_results_indexed = df_results_select.set_index('raceId')\n",
    "\n",
    "# Join Data Sets\n",
    "df_stats = df_results_indexed.join(df_races_indexed, how = 'left')"
   ]
  },
  {
   "cell_type": "code",
   "execution_count": null,
   "id": "2e212c53",
   "metadata": {},
   "outputs": [],
   "source": [
    "# Filter the data for race winners only\n",
    "df_race_winners = df_stats[df_stats['position'] == 1]\n",
    "df_race_winners_final = df_race_winners.drop('position', axis = 1)"
   ]
  },
  {
   "cell_type": "code",
   "execution_count": null,
   "id": "307004e7",
   "metadata": {},
   "outputs": [
    {
     "name": "stdout",
     "output_type": "stream",
     "text": [
      "Writing CSV to C:\\Users\\Joe.Pilny\\engineering-recruitment-assignments\\data-engineering\\datapipeline\\results\\silver\\stats.csv\n",
      "Writing CSV to C:\\Users\\Joe.Pilny\\engineering-recruitment-assignments\\data-engineering\\datapipeline\\results\\silver\\race_winners.csv\n"
     ]
    }
   ],
   "source": [
    "# Write to silver\n",
    "func_write_csv(df_stats, v_silver_path, 'stats.csv')\n",
    "func_write_csv(df_race_winners, v_silver_path, 'race_winners.csv')"
   ]
  },
  {
   "cell_type": "markdown",
   "id": "05f15dbf",
   "metadata": {},
   "source": []
  }
 ],
 "metadata": {
  "kernelspec": {
   "display_name": "base",
   "language": "python",
   "name": "python3"
  },
  "language_info": {
   "codemirror_mode": {
    "name": "ipython",
    "version": 3
   },
   "file_extension": ".py",
   "mimetype": "text/x-python",
   "name": "python",
   "nbconvert_exporter": "python",
   "pygments_lexer": "ipython3",
   "version": "3.12.7"
  }
 },
 "nbformat": 4,
 "nbformat_minor": 5
}
