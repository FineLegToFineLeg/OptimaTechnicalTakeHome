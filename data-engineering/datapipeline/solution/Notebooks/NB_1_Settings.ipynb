{
 "cells": [
  {
   "cell_type": "markdown",
   "id": "b9472f7b",
   "metadata": {},
   "source": [
    "# NB_1_Settings"
   ]
  },
  {
   "cell_type": "markdown",
   "id": "5556ea80",
   "metadata": {},
   "source": [
    "This notebooks defines all common settings used in the solution. Variables such as directories and data paths are defined."
   ]
  },
  {
   "cell_type": "code",
   "execution_count": 7,
   "id": "b176c230",
   "metadata": {},
   "outputs": [],
   "source": [
    "# Import all packages\n",
    "from pathlib import Path\n",
    "import os"
   ]
  },
  {
   "cell_type": "code",
   "execution_count": null,
   "id": "cdd55bdf",
   "metadata": {},
   "outputs": [],
   "source": [
    "# Directory Variables\n",
    "v_base_directory = Path(os.getcwd()).resolve().parent\n",
    "v_landing_folder = 'source-data'\n",
    "v_writing_folder = 'results'\n",
    "v_bronze_folder = 'bronze'\n",
    "v_silver_folder = 'silver'\n",
    "v_gold_folder = 'gold'\n",
    "\n",
    "# Data Paths\n",
    "v_source_path = v_base_directory / v_landing_folder \n",
    "v_bronze_path = v_base_directory / v_writing_folder /  v_bronze_folder\n",
    "v_silver_path = v_base_directory / v_writing_folder /  v_silver_folder\n",
    "v_gold_path = v_base_directory / v_writing_folder /  v_gold_folder\n"
   ]
  }
 ],
 "metadata": {
  "kernelspec": {
   "display_name": "base",
   "language": "python",
   "name": "python3"
  },
  "language_info": {
   "codemirror_mode": {
    "name": "ipython",
    "version": 3
   },
   "file_extension": ".py",
   "mimetype": "text/x-python",
   "name": "python",
   "nbconvert_exporter": "python",
   "pygments_lexer": "ipython3",
   "version": "3.12.7"
  }
 },
 "nbformat": 4,
 "nbformat_minor": 5
}
