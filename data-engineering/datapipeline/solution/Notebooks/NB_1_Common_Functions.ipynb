{
 "cells": [
  {
   "cell_type": "markdown",
   "id": "e615265f",
   "metadata": {},
   "source": [
    "# NB_1_Common_Functions"
   ]
  },
  {
   "cell_type": "markdown",
   "id": "357e9b9f",
   "metadata": {},
   "source": [
    "This notebook contains functions that are common accross all notebooks and can be called accross multiple notebooks. The following funcitons are defined:\n",
    "- func_read_csv\n",
    "- func_write_csv\n",
    "- func_create_json"
   ]
  },
  {
   "cell_type": "code",
   "execution_count": null,
   "id": "554418c8",
   "metadata": {},
   "outputs": [],
   "source": [
    "# For testing only (uncomment for testing)\n",
    "# %run Notebooks/NB_1_Settings.ipynb"
   ]
  },
  {
   "cell_type": "code",
   "execution_count": null,
   "id": "80bda956",
   "metadata": {},
   "outputs": [],
   "source": [
    "def func_read_csv(v_file_name, v_path):\n",
    "    try:\n",
    "        v_output_path = v_path / v_file_name\n",
    "        print(f\"Reading CSV from {v_output_path}\")\n",
    "        df_output = pd.read_csv(v_output_path)\n",
    "        return df_output\n",
    "    except Exception as e:\n",
    "        v_logs_path = v_path / \"Logs.csv\"\n",
    "        v_file_exists = v_logs_path.exists()\n",
    "        v_log_entry = [current_time.strftime(\"%Y-%m-%d\"), current_time.strftime(\"%H:%M:%S\"), run_id, str(e)]\n",
    "        try:\n",
    "            with open(v_logs_path, mode='a', newline='') as v_log_file:\n",
    "\n",
    "                writer = csv.writer(v_log_file)\n",
    "\n",
    "                if not v_file_exists:\n",
    "                    writer.writerow([\"Date\", \"Time\", \"Run ID\", \"Error Message\"])\n",
    "    \n",
    "                writer.writerow(v_log_entry)\n",
    "\n",
    "            print(f\"Error logged to {v_logs_path}\")\n",
    "        except Exception as log_error:\n",
    "            print(f\"Failed to write to log file: {log_error}\")\n",
    "\n",
    "        return None\n",
    "\n",
    "# For testing\n",
    "# func_read_csv('races.csv', v_source_path)"
   ]
  },
  {
   "cell_type": "code",
   "execution_count": 11,
   "id": "12029511",
   "metadata": {},
   "outputs": [],
   "source": [
    "def func_write_csv(df_input, v_path, v_file_name):\n",
    "    try:\n",
    "        v_output_path = v_path / v_file_name\n",
    "        print(f\"Writing CSV to {v_output_path}\")\n",
    "        return df_input.to_csv(v_output_path, index = False)\n",
    "    except Exception as e:\n",
    "        print(f\"Error writing CSV to {v_output_path}: {e}\")\n",
    "        return None\n"
   ]
  },
  {
   "cell_type": "code",
   "execution_count": 12,
   "id": "391aebf2",
   "metadata": {},
   "outputs": [],
   "source": [
    "def func_create_json(df_input, v_path, v_file_name):\n",
    "    try:\n",
    "        v_output_path = v_path / v_file_name\n",
    "        print(f\"Writing JSON to {v_output_path}\")\n",
    "        return df_input.to_json(v_output_path, orient = 'records', indent = 4)\n",
    "    except Exception as e:\n",
    "        print(f\"Error writing JSON to {v_output_path}: {e}\")\n",
    "        return None\n"
   ]
  }
 ],
 "metadata": {
  "kernelspec": {
   "display_name": "base",
   "language": "python",
   "name": "python3"
  },
  "language_info": {
   "codemirror_mode": {
    "name": "ipython",
    "version": 3
   },
   "file_extension": ".py",
   "mimetype": "text/x-python",
   "name": "python",
   "nbconvert_exporter": "python",
   "pygments_lexer": "ipython3",
   "version": "3.12.7"
  }
 },
 "nbformat": 4,
 "nbformat_minor": 5
}
