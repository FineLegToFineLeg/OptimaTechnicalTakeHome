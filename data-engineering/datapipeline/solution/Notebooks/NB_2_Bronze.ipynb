{
 "cells": [
  {
   "cell_type": "markdown",
   "id": "1b7f7d78",
   "metadata": {},
   "source": [
    "# NB_2_Bronze"
   ]
  },
  {
   "cell_type": "markdown",
   "id": "f8d8c38c",
   "metadata": {},
   "source": [
    "This notebook writes files from the landing folder into the bronze folder ready for business logic transformations in silver."
   ]
  },
  {
   "cell_type": "code",
   "execution_count": null,
   "id": "c555e6a9",
   "metadata": {},
   "outputs": [],
   "source": [
    "# Import packages\n",
    "import pandas as pd\n",
    "from datetime import datetime"
   ]
  },
  {
   "cell_type": "code",
   "execution_count": null,
   "id": "2e79cf8d",
   "metadata": {},
   "outputs": [],
   "source": [
    "# Logging Variables\n",
    "current_time = datetime.now()\n",
    "run_id = current_time.strftime(\"%Y%m%d_%H%M%S\")"
   ]
  },
  {
   "cell_type": "code",
   "execution_count": null,
   "id": "e0ed45be",
   "metadata": {},
   "outputs": [],
   "source": [
    "# Run common files\n",
    "%run Notebooks/NB_1_Settings.ipynb\n",
    "%run Notebooks/NB_1_Common_Functions.ipynb"
   ]
  },
  {
   "cell_type": "code",
   "execution_count": null,
   "id": "b06411a3",
   "metadata": {
    "tags": [
     "parameters"
    ]
   },
   "outputs": [],
   "source": [
    "# Initialise Parameters\n",
    "input_file_name = ''"
   ]
  },
  {
   "cell_type": "code",
   "execution_count": null,
   "id": "d28d1752",
   "metadata": {},
   "outputs": [
    {
     "name": "stdout",
     "output_type": "stream",
     "text": [
      "Reading CSV from C:\\Users\\Joe.Pilny\\engineering-recruitment-assignments\\data-engineering\\datapipeline\\source-data\\races.csv\n",
      "Reading CSV from C:\\Users\\Joe.Pilny\\engineering-recruitment-assignments\\data-engineering\\datapipeline\\source-data\\results.csv\n"
     ]
    }
   ],
   "source": [
    "# Import raw data\n",
    "df_input = func_read_csv(input_file_name, v_source_path)"
   ]
  },
  {
   "cell_type": "code",
   "execution_count": null,
   "id": "af62a941",
   "metadata": {},
   "outputs": [
    {
     "name": "stdout",
     "output_type": "stream",
     "text": [
      "Writing CSV to C:\\Users\\Joe.Pilny\\engineering-recruitment-assignments\\data-engineering\\datapipeline\\results\\bronze\\races.csv\n",
      "Writing CSV to C:\\Users\\Joe.Pilny\\engineering-recruitment-assignments\\data-engineering\\datapipeline\\results\\bronze\\results.csv\n"
     ]
    }
   ],
   "source": [
    "# Write to bronze layer\n",
    "func_write_csv(df_input, v_bronze_path, input_file_name)"
   ]
  }
 ],
 "metadata": {
  "kernelspec": {
   "display_name": "base",
   "language": "python",
   "name": "python3"
  },
  "language_info": {
   "codemirror_mode": {
    "name": "ipython",
    "version": 3
   },
   "file_extension": ".py",
   "mimetype": "text/x-python",
   "name": "python",
   "nbconvert_exporter": "python",
   "pygments_lexer": "ipython3",
   "version": "3.12.7"
  }
 },
 "nbformat": 4,
 "nbformat_minor": 5
}
