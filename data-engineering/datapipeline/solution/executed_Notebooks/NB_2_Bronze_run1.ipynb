{
 "cells": [
  {
   "cell_type": "markdown",
   "id": "1b7f7d78",
   "metadata": {
    "papermill": {
     "duration": 0.004106,
     "end_time": "2025-06-29T22:02:40.922117",
     "exception": false,
     "start_time": "2025-06-29T22:02:40.918011",
     "status": "completed"
    },
    "tags": []
   },
   "source": [
    "# NB_2_Bronze"
   ]
  },
  {
   "cell_type": "code",
   "execution_count": 1,
   "id": "c555e6a9",
   "metadata": {
    "execution": {
     "iopub.execute_input": "2025-06-29T22:02:40.930556Z",
     "iopub.status.busy": "2025-06-29T22:02:40.930556Z",
     "iopub.status.idle": "2025-06-29T22:02:42.474839Z",
     "shell.execute_reply": "2025-06-29T22:02:42.472830Z"
    },
    "papermill": {
     "duration": 1.550924,
     "end_time": "2025-06-29T22:02:42.477148",
     "exception": false,
     "start_time": "2025-06-29T22:02:40.926224",
     "status": "completed"
    },
    "tags": []
   },
   "outputs": [],
   "source": [
    "# Import packages\n",
    "import pandas as pd\n",
    "from datetime import datetime"
   ]
  },
  {
   "cell_type": "code",
   "execution_count": 2,
   "id": "2e79cf8d",
   "metadata": {
    "execution": {
     "iopub.execute_input": "2025-06-29T22:02:42.486543Z",
     "iopub.status.busy": "2025-06-29T22:02:42.486543Z",
     "iopub.status.idle": "2025-06-29T22:02:42.495328Z",
     "shell.execute_reply": "2025-06-29T22:02:42.494165Z"
    },
    "papermill": {
     "duration": 0.015022,
     "end_time": "2025-06-29T22:02:42.497362",
     "exception": false,
     "start_time": "2025-06-29T22:02:42.482340",
     "status": "completed"
    },
    "tags": []
   },
   "outputs": [],
   "source": [
    "# Logging Variables\n",
    "current_time = datetime.now()\n",
    "run_id = current_time.strftime(\"%Y%m%d_%H%M%S\")"
   ]
  },
  {
   "cell_type": "code",
   "execution_count": 3,
   "id": "e0ed45be",
   "metadata": {
    "execution": {
     "iopub.execute_input": "2025-06-29T22:02:42.507458Z",
     "iopub.status.busy": "2025-06-29T22:02:42.505947Z",
     "iopub.status.idle": "2025-06-29T22:02:42.989199Z",
     "shell.execute_reply": "2025-06-29T22:02:42.988135Z"
    },
    "papermill": {
     "duration": 0.488873,
     "end_time": "2025-06-29T22:02:42.989199",
     "exception": false,
     "start_time": "2025-06-29T22:02:42.500326",
     "status": "completed"
    },
    "tags": []
   },
   "outputs": [],
   "source": [
    "# Run common files\n",
    "%run Notebooks/NB_1_Settings.ipynb\n",
    "%run Notebooks/NB_1_Common_Functions.ipynb"
   ]
  },
  {
   "cell_type": "code",
   "execution_count": 4,
   "id": "b06411a3",
   "metadata": {
    "execution": {
     "iopub.execute_input": "2025-06-29T22:02:42.998006Z",
     "iopub.status.busy": "2025-06-29T22:02:42.998006Z",
     "iopub.status.idle": "2025-06-29T22:02:43.004348Z",
     "shell.execute_reply": "2025-06-29T22:02:43.004348Z"
    },
    "papermill": {
     "duration": 0.012776,
     "end_time": "2025-06-29T22:02:43.006421",
     "exception": false,
     "start_time": "2025-06-29T22:02:42.993645",
     "status": "completed"
    },
    "tags": [
     "parameters"
    ]
   },
   "outputs": [],
   "source": [
    "# Initialise Parameters\n",
    "input_file_name = ''"
   ]
  },
  {
   "cell_type": "code",
   "execution_count": 5,
   "id": "c2fc7637",
   "metadata": {
    "execution": {
     "iopub.execute_input": "2025-06-29T22:02:43.012885Z",
     "iopub.status.busy": "2025-06-29T22:02:43.012885Z",
     "iopub.status.idle": "2025-06-29T22:02:43.019847Z",
     "shell.execute_reply": "2025-06-29T22:02:43.019847Z"
    },
    "papermill": {
     "duration": 0.010502,
     "end_time": "2025-06-29T22:02:43.021600",
     "exception": false,
     "start_time": "2025-06-29T22:02:43.011098",
     "status": "completed"
    },
    "tags": [
     "injected-parameters"
    ]
   },
   "outputs": [],
   "source": [
    "# Parameters\n",
    "input_file_name = \"races.csv\"\n"
   ]
  },
  {
   "cell_type": "code",
   "execution_count": 6,
   "id": "d28d1752",
   "metadata": {
    "execution": {
     "iopub.execute_input": "2025-06-29T22:02:43.031211Z",
     "iopub.status.busy": "2025-06-29T22:02:43.031211Z",
     "iopub.status.idle": "2025-06-29T22:02:43.051687Z",
     "shell.execute_reply": "2025-06-29T22:02:43.050675Z"
    },
    "papermill": {
     "duration": 0.027878,
     "end_time": "2025-06-29T22:02:43.053686",
     "exception": false,
     "start_time": "2025-06-29T22:02:43.025808",
     "status": "completed"
    },
    "tags": []
   },
   "outputs": [
    {
     "name": "stdout",
     "output_type": "stream",
     "text": [
      "Reading CSV from C:\\Users\\Joe.Pilny\\engineering-recruitment-assignments\\data-engineering\\datapipeline\\source-data\\races.csv\n"
     ]
    }
   ],
   "source": [
    "# Import raw data\n",
    "df_input = func_read_csv(input_file_name, v_source_path)"
   ]
  },
  {
   "cell_type": "code",
   "execution_count": 7,
   "id": "af62a941",
   "metadata": {
    "execution": {
     "iopub.execute_input": "2025-06-29T22:02:43.062769Z",
     "iopub.status.busy": "2025-06-29T22:02:43.062769Z",
     "iopub.status.idle": "2025-06-29T22:02:43.080751Z",
     "shell.execute_reply": "2025-06-29T22:02:43.079653Z"
    },
    "papermill": {
     "duration": 0.024061,
     "end_time": "2025-06-29T22:02:43.080751",
     "exception": false,
     "start_time": "2025-06-29T22:02:43.056690",
     "status": "completed"
    },
    "tags": []
   },
   "outputs": [
    {
     "name": "stdout",
     "output_type": "stream",
     "text": [
      "Writing CSV to C:\\Users\\Joe.Pilny\\engineering-recruitment-assignments\\data-engineering\\datapipeline\\results\\bronze\\races.csv\n"
     ]
    }
   ],
   "source": [
    "# Write to bronze layer\n",
    "func_write_csv(df_input, v_bronze_path, input_file_name)"
   ]
  }
 ],
 "metadata": {
  "kernelspec": {
   "display_name": "base",
   "language": "python",
   "name": "python3"
  },
  "language_info": {
   "codemirror_mode": {
    "name": "ipython",
    "version": 3
   },
   "file_extension": ".py",
   "mimetype": "text/x-python",
   "name": "python",
   "nbconvert_exporter": "python",
   "pygments_lexer": "ipython3",
   "version": "3.12.7"
  },
  "papermill": {
   "default_parameters": {},
   "duration": 8.758016,
   "end_time": "2025-06-29T22:02:43.433354",
   "environment_variables": {},
   "exception": null,
   "input_path": "Notebooks/NB_2_Bronze.ipynb",
   "output_path": "executed_Notebooks/NB_2_Bronze_run1.ipynb",
   "parameters": {
    "input_file_name": "races.csv"
   },
   "start_time": "2025-06-29T22:02:34.675338",
   "version": "2.6.0"
  }
 },
 "nbformat": 4,
 "nbformat_minor": 5
}