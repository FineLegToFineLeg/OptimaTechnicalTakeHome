{
 "cells": [
  {
   "cell_type": "markdown",
   "id": "fac2ede0",
   "metadata": {},
   "source": [
    "# NB_4_Gold"
   ]
  },
  {
   "cell_type": "code",
   "execution_count": 1,
   "id": "d58f45da",
   "metadata": {
    "execution": {
     "iopub.execute_input": "2025-06-29T22:03:00.877563Z",
     "iopub.status.busy": "2025-06-29T22:03:00.877563Z",
     "iopub.status.idle": "2025-06-29T22:03:02.406357Z",
     "shell.execute_reply": "2025-06-29T22:03:02.406357Z"
    }
   },
   "outputs": [],
   "source": [
    "# Import Packages\n",
    "import pandas as pd\n",
    "from datetime import datetime"
   ]
  },
  {
   "cell_type": "code",
   "execution_count": 2,
   "id": "a0f143a0",
   "metadata": {
    "execution": {
     "iopub.execute_input": "2025-06-29T22:03:02.409059Z",
     "iopub.status.busy": "2025-06-29T22:03:02.409059Z",
     "iopub.status.idle": "2025-06-29T22:03:02.415890Z",
     "shell.execute_reply": "2025-06-29T22:03:02.415890Z"
    }
   },
   "outputs": [],
   "source": [
    "# Logging Variables\n",
    "current_time = datetime.now()\n",
    "run_id = current_time.strftime(\"%Y%m%d_%H%M%S\")"
   ]
  },
  {
   "cell_type": "code",
   "execution_count": 3,
   "id": "1748e777",
   "metadata": {
    "execution": {
     "iopub.execute_input": "2025-06-29T22:03:02.417784Z",
     "iopub.status.busy": "2025-06-29T22:03:02.417784Z",
     "iopub.status.idle": "2025-06-29T22:03:02.913042Z",
     "shell.execute_reply": "2025-06-29T22:03:02.912378Z"
    }
   },
   "outputs": [],
   "source": [
    "# Run common files\n",
    "%run Notebooks/NB_1_Settings.ipynb\n",
    "%run Notebooks/NB_1_Common_Functions.ipynb"
   ]
  },
  {
   "cell_type": "code",
   "execution_count": 4,
   "id": "fa20fcb8",
   "metadata": {
    "execution": {
     "iopub.execute_input": "2025-06-29T22:03:02.916280Z",
     "iopub.status.busy": "2025-06-29T22:03:02.916280Z",
     "iopub.status.idle": "2025-06-29T22:03:02.941529Z",
     "shell.execute_reply": "2025-06-29T22:03:02.941529Z"
    }
   },
   "outputs": [
    {
     "name": "stdout",
     "output_type": "stream",
     "text": [
      "Reading CSV from C:\\Users\\Joe.Pilny\\engineering-recruitment-assignments\\data-engineering\\datapipeline\\results\\silver\\race_winners.csv\n"
     ]
    }
   ],
   "source": [
    "# Read Dataset from silver\n",
    "df_race_winners = func_read_csv('race_winners.csv', v_silver_path)"
   ]
  },
  {
   "cell_type": "code",
   "execution_count": 5,
   "id": "8b5aa3a4",
   "metadata": {
    "execution": {
     "iopub.execute_input": "2025-06-29T22:03:02.946670Z",
     "iopub.status.busy": "2025-06-29T22:03:02.946670Z",
     "iopub.status.idle": "2025-06-29T22:03:02.953763Z",
     "shell.execute_reply": "2025-06-29T22:03:02.952757Z"
    }
   },
   "outputs": [],
   "source": [
    "df_race_winners.rename(columns={\n",
    "    'name': 'Race Name',\n",
    "    'round': 'Race Round',\n",
    "    'datetime': 'Race Datetime',\n",
    "    'driverId': 'Race Winning driverId',\n",
    "    'fastestLapTime': 'Race Fastest Lap',\n",
    "    'year': 'Year'\n",
    "}, inplace=True)\n",
    "\n",
    "df_race_winners_ordered = df_race_winners[['Race Name', 'Race Round', 'Race Datetime', 'Race Winning driverId', 'Race Fastest Lap', 'Year']]\n"
   ]
  },
  {
   "cell_type": "code",
   "execution_count": 6,
   "id": "10fec236",
   "metadata": {
    "execution": {
     "iopub.execute_input": "2025-06-29T22:03:02.957723Z",
     "iopub.status.busy": "2025-06-29T22:03:02.956710Z",
     "iopub.status.idle": "2025-06-29T22:03:02.982694Z",
     "shell.execute_reply": "2025-06-29T22:03:02.982694Z"
    }
   },
   "outputs": [
    {
     "name": "stdout",
     "output_type": "stream",
     "text": [
      "Writing JSON to C:\\Users\\Joe.Pilny\\engineering-recruitment-assignments\\data-engineering\\datapipeline\\results\\gold\\stats_2018.json\n",
      "Writing JSON to C:\\Users\\Joe.Pilny\\engineering-recruitment-assignments\\data-engineering\\datapipeline\\results\\gold\\stats_2019.json\n",
      "Writing JSON to C:\\Users\\Joe.Pilny\\engineering-recruitment-assignments\\data-engineering\\datapipeline\\results\\gold\\stats_2020.json\n",
      "Writing JSON to C:\\Users\\Joe.Pilny\\engineering-recruitment-assignments\\data-engineering\\datapipeline\\results\\gold\\stats_2021.json\n",
      "Writing JSON to C:\\Users\\Joe.Pilny\\engineering-recruitment-assignments\\data-engineering\\datapipeline\\results\\gold\\stats_2022.json\n",
      "Writing JSON to C:\\Users\\Joe.Pilny\\engineering-recruitment-assignments\\data-engineering\\datapipeline\\results\\gold\\stats_2023.json\n",
      "Writing JSON to C:\\Users\\Joe.Pilny\\engineering-recruitment-assignments\\data-engineering\\datapipeline\\results\\gold\\stats_2024.json\n"
     ]
    }
   ],
   "source": [
    "for v_year, df_group in df_race_winners_ordered.groupby('Year'):\n",
    "    v_file_name = f'stats_{v_year}.json'\n",
    "    df_output = df_group.drop(columns = 'Year')\n",
    "    func_create_json(df_output, v_gold_path, v_file_name)"
   ]
  }
 ],
 "metadata": {
  "kernelspec": {
   "display_name": "base",
   "language": "python",
   "name": "python3"
  },
  "language_info": {
   "codemirror_mode": {
    "name": "ipython",
    "version": 3
   },
   "file_extension": ".py",
   "mimetype": "text/x-python",
   "name": "python",
   "nbconvert_exporter": "python",
   "pygments_lexer": "ipython3",
   "version": "3.12.7"
  }
 },
 "nbformat": 4,
 "nbformat_minor": 5
}
