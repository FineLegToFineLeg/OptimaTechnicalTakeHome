{
 "cells": [
  {
   "cell_type": "markdown",
   "id": "b421800d",
   "metadata": {},
   "source": [
    "# NB_3_Silver"
   ]
  },
  {
   "cell_type": "code",
   "execution_count": 1,
   "id": "0df6bcd3",
   "metadata": {
    "execution": {
     "iopub.execute_input": "2025-06-29T22:02:54.285711Z",
     "iopub.status.busy": "2025-06-29T22:02:54.285711Z",
     "iopub.status.idle": "2025-06-29T22:02:55.766133Z",
     "shell.execute_reply": "2025-06-29T22:02:55.765113Z"
    }
   },
   "outputs": [],
   "source": [
    "# Import Packages\n",
    "import pandas as pd\n",
    "from datetime import datetime"
   ]
  },
  {
   "cell_type": "code",
   "execution_count": 2,
   "id": "7fecde0b",
   "metadata": {
    "execution": {
     "iopub.execute_input": "2025-06-29T22:02:55.770134Z",
     "iopub.status.busy": "2025-06-29T22:02:55.769130Z",
     "iopub.status.idle": "2025-06-29T22:02:55.774648Z",
     "shell.execute_reply": "2025-06-29T22:02:55.774135Z"
    }
   },
   "outputs": [],
   "source": [
    "# Logging Variables\n",
    "current_time = datetime.now()\n",
    "run_id = current_time.strftime(\"%Y%m%d_%H%M%S\")"
   ]
  },
  {
   "cell_type": "code",
   "execution_count": 3,
   "id": "3af5875c",
   "metadata": {
    "execution": {
     "iopub.execute_input": "2025-06-29T22:02:55.778657Z",
     "iopub.status.busy": "2025-06-29T22:02:55.778657Z",
     "iopub.status.idle": "2025-06-29T22:02:56.253078Z",
     "shell.execute_reply": "2025-06-29T22:02:56.253078Z"
    }
   },
   "outputs": [],
   "source": [
    "# Run common files\n",
    "%run Notebooks/NB_1_Settings.ipynb\n",
    "%run Notebooks/NB_1_Common_Functions.ipynb"
   ]
  },
  {
   "cell_type": "code",
   "execution_count": 4,
   "id": "383f8ac7",
   "metadata": {
    "execution": {
     "iopub.execute_input": "2025-06-29T22:02:56.256736Z",
     "iopub.status.busy": "2025-06-29T22:02:56.256736Z",
     "iopub.status.idle": "2025-06-29T22:02:56.292668Z",
     "shell.execute_reply": "2025-06-29T22:02:56.291578Z"
    }
   },
   "outputs": [
    {
     "name": "stdout",
     "output_type": "stream",
     "text": [
      "Reading CSV from C:\\Users\\Joe.Pilny\\engineering-recruitment-assignments\\data-engineering\\datapipeline\\results\\bronze\\races.csv\n",
      "Reading CSV from C:\\Users\\Joe.Pilny\\engineering-recruitment-assignments\\data-engineering\\datapipeline\\results\\bronze\\results.csv\n"
     ]
    }
   ],
   "source": [
    "# Import data from bronze\n",
    "df_races = func_read_csv('races.csv', v_bronze_path)\n",
    "df_results = func_read_csv('results.csv', v_bronze_path)"
   ]
  },
  {
   "cell_type": "code",
   "execution_count": 5,
   "id": "ce1adfdd",
   "metadata": {
    "execution": {
     "iopub.execute_input": "2025-06-29T22:02:56.294439Z",
     "iopub.status.busy": "2025-06-29T22:02:56.294439Z",
     "iopub.status.idle": "2025-06-29T22:02:56.309576Z",
     "shell.execute_reply": "2025-06-29T22:02:56.308652Z"
    }
   },
   "outputs": [],
   "source": [
    "# Handle nulls in time column\n",
    "df_races['time'] = df_races['time'].fillna('00:00:00')\n",
    "\n",
    "# Convert and merge columns\n",
    "df_races['datetime'] = pd.to_datetime(df_races['date'] + ' ' + df_races['time'], format = '%Y-%m-%d %H:%M:%S')\n",
    "df_races['datetime'] = df_races['datetime'].dt.strftime('%Y-%m-%dT%H:%M:%S.%f').str[:-3]"
   ]
  },
  {
   "cell_type": "code",
   "execution_count": 6,
   "id": "9ceb06bf",
   "metadata": {
    "execution": {
     "iopub.execute_input": "2025-06-29T22:02:56.310432Z",
     "iopub.status.busy": "2025-06-29T22:02:56.310432Z",
     "iopub.status.idle": "2025-06-29T22:02:56.318355Z",
     "shell.execute_reply": "2025-06-29T22:02:56.318355Z"
    }
   },
   "outputs": [],
   "source": [
    "# Change type on key columns\n",
    "df_results['position'] = df_results['position'].astype('Int64')"
   ]
  },
  {
   "cell_type": "code",
   "execution_count": 7,
   "id": "e07d2d63",
   "metadata": {
    "execution": {
     "iopub.execute_input": "2025-06-29T22:02:56.322712Z",
     "iopub.status.busy": "2025-06-29T22:02:56.318355Z",
     "iopub.status.idle": "2025-06-29T22:02:56.333435Z",
     "shell.execute_reply": "2025-06-29T22:02:56.333038Z"
    }
   },
   "outputs": [],
   "source": [
    "# Select Required fields\n",
    "df_races_select = df_races[['raceId', 'year', 'round', 'name', 'datetime']]\n",
    "df_results_select = df_results[['raceId', 'driverId', 'position', 'fastestLapTime']]\n",
    "\n",
    "# Set indexes\n",
    "df_races_indexed = df_races_select.set_index('raceId')\n",
    "df_results_indexed = df_results_select.set_index('raceId')\n",
    "\n",
    "# Join Data Sets\n",
    "df_stats = df_results_indexed.join(df_races_indexed, how = 'left')"
   ]
  },
  {
   "cell_type": "code",
   "execution_count": 8,
   "id": "2e212c53",
   "metadata": {
    "execution": {
     "iopub.execute_input": "2025-06-29T22:02:56.336271Z",
     "iopub.status.busy": "2025-06-29T22:02:56.336271Z",
     "iopub.status.idle": "2025-06-29T22:02:56.342554Z",
     "shell.execute_reply": "2025-06-29T22:02:56.342554Z"
    }
   },
   "outputs": [],
   "source": [
    "df_race_winners = df_stats[df_stats['position'] == 1]\n",
    "df_race_winners_final = df_race_winners.drop('position', axis = 1)"
   ]
  },
  {
   "cell_type": "code",
   "execution_count": 9,
   "id": "307004e7",
   "metadata": {
    "execution": {
     "iopub.execute_input": "2025-06-29T22:02:56.344310Z",
     "iopub.status.busy": "2025-06-29T22:02:56.344310Z",
     "iopub.status.idle": "2025-06-29T22:02:56.366121Z",
     "shell.execute_reply": "2025-06-29T22:02:56.366121Z"
    }
   },
   "outputs": [
    {
     "name": "stdout",
     "output_type": "stream",
     "text": [
      "Writing CSV to C:\\Users\\Joe.Pilny\\engineering-recruitment-assignments\\data-engineering\\datapipeline\\results\\silver\\stats.csv\n",
      "Writing CSV to C:\\Users\\Joe.Pilny\\engineering-recruitment-assignments\\data-engineering\\datapipeline\\results\\silver\\race_winners.csv\n"
     ]
    }
   ],
   "source": [
    "# Write to silver\n",
    "func_write_csv(df_stats, v_silver_path, 'stats.csv')\n",
    "func_write_csv(df_race_winners, v_silver_path, 'race_winners.csv')"
   ]
  },
  {
   "cell_type": "markdown",
   "id": "05f15dbf",
   "metadata": {},
   "source": []
  }
 ],
 "metadata": {
  "kernelspec": {
   "display_name": "base",
   "language": "python",
   "name": "python3"
  },
  "language_info": {
   "codemirror_mode": {
    "name": "ipython",
    "version": 3
   },
   "file_extension": ".py",
   "mimetype": "text/x-python",
   "name": "python",
   "nbconvert_exporter": "python",
   "pygments_lexer": "ipython3",
   "version": "3.12.7"
  }
 },
 "nbformat": 4,
 "nbformat_minor": 5
}
