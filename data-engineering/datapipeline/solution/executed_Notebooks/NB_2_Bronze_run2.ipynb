{
 "cells": [
  {
   "cell_type": "markdown",
   "id": "1b7f7d78",
   "metadata": {
    "papermill": {
     "duration": 0.0,
     "end_time": "2025-06-29T22:02:47.656099",
     "exception": false,
     "start_time": "2025-06-29T22:02:47.656099",
     "status": "completed"
    },
    "tags": []
   },
   "source": [
    "# NB_2_Bronze"
   ]
  },
  {
   "cell_type": "code",
   "execution_count": 1,
   "id": "c555e6a9",
   "metadata": {
    "execution": {
     "iopub.execute_input": "2025-06-29T22:02:47.669659Z",
     "iopub.status.busy": "2025-06-29T22:02:47.669659Z",
     "iopub.status.idle": "2025-06-29T22:02:49.197758Z",
     "shell.execute_reply": "2025-06-29T22:02:49.197081Z"
    },
    "papermill": {
     "duration": 1.53739,
     "end_time": "2025-06-29T22:02:49.197758",
     "exception": false,
     "start_time": "2025-06-29T22:02:47.660368",
     "status": "completed"
    },
    "tags": []
   },
   "outputs": [],
   "source": [
    "# Import packages\n",
    "import pandas as pd\n",
    "from datetime import datetime"
   ]
  },
  {
   "cell_type": "code",
   "execution_count": 2,
   "id": "2e79cf8d",
   "metadata": {
    "execution": {
     "iopub.execute_input": "2025-06-29T22:02:49.206246Z",
     "iopub.status.busy": "2025-06-29T22:02:49.206246Z",
     "iopub.status.idle": "2025-06-29T22:02:49.214325Z",
     "shell.execute_reply": "2025-06-29T22:02:49.213691Z"
    },
    "papermill": {
     "duration": 0.012464,
     "end_time": "2025-06-29T22:02:49.214325",
     "exception": false,
     "start_time": "2025-06-29T22:02:49.201861",
     "status": "completed"
    },
    "tags": []
   },
   "outputs": [],
   "source": [
    "# Logging Variables\n",
    "current_time = datetime.now()\n",
    "run_id = current_time.strftime(\"%Y%m%d_%H%M%S\")"
   ]
  },
  {
   "cell_type": "code",
   "execution_count": 3,
   "id": "e0ed45be",
   "metadata": {
    "execution": {
     "iopub.execute_input": "2025-06-29T22:02:49.227222Z",
     "iopub.status.busy": "2025-06-29T22:02:49.225349Z",
     "iopub.status.idle": "2025-06-29T22:02:49.705104Z",
     "shell.execute_reply": "2025-06-29T22:02:49.704282Z"
    },
    "papermill": {
     "duration": 0.487258,
     "end_time": "2025-06-29T22:02:49.706855",
     "exception": false,
     "start_time": "2025-06-29T22:02:49.219597",
     "status": "completed"
    },
    "tags": []
   },
   "outputs": [],
   "source": [
    "# Run common files\n",
    "%run Notebooks/NB_1_Settings.ipynb\n",
    "%run Notebooks/NB_1_Common_Functions.ipynb"
   ]
  },
  {
   "cell_type": "code",
   "execution_count": 4,
   "id": "b06411a3",
   "metadata": {
    "execution": {
     "iopub.execute_input": "2025-06-29T22:02:49.714786Z",
     "iopub.status.busy": "2025-06-29T22:02:49.714786Z",
     "iopub.status.idle": "2025-06-29T22:02:49.724246Z",
     "shell.execute_reply": "2025-06-29T22:02:49.722255Z"
    },
    "papermill": {
     "duration": 0.014922,
     "end_time": "2025-06-29T22:02:49.726258",
     "exception": false,
     "start_time": "2025-06-29T22:02:49.711336",
     "status": "completed"
    },
    "tags": [
     "parameters"
    ]
   },
   "outputs": [],
   "source": [
    "# Initialise Parameters\n",
    "input_file_name = ''"
   ]
  },
  {
   "cell_type": "code",
   "execution_count": 5,
   "id": "98b01d86",
   "metadata": {
    "execution": {
     "iopub.execute_input": "2025-06-29T22:02:49.734597Z",
     "iopub.status.busy": "2025-06-29T22:02:49.734597Z",
     "iopub.status.idle": "2025-06-29T22:02:49.739085Z",
     "shell.execute_reply": "2025-06-29T22:02:49.739085Z"
    },
    "papermill": {
     "duration": 0.008868,
     "end_time": "2025-06-29T22:02:49.739085",
     "exception": false,
     "start_time": "2025-06-29T22:02:49.730217",
     "status": "completed"
    },
    "tags": [
     "injected-parameters"
    ]
   },
   "outputs": [],
   "source": [
    "# Parameters\n",
    "input_file_name = \"results.csv\"\n"
   ]
  },
  {
   "cell_type": "code",
   "execution_count": 6,
   "id": "d28d1752",
   "metadata": {
    "execution": {
     "iopub.execute_input": "2025-06-29T22:02:49.752053Z",
     "iopub.status.busy": "2025-06-29T22:02:49.751053Z",
     "iopub.status.idle": "2025-06-29T22:02:49.775543Z",
     "shell.execute_reply": "2025-06-29T22:02:49.775543Z"
    },
    "papermill": {
     "duration": 0.033306,
     "end_time": "2025-06-29T22:02:49.779259",
     "exception": false,
     "start_time": "2025-06-29T22:02:49.745953",
     "status": "completed"
    },
    "tags": []
   },
   "outputs": [
    {
     "name": "stdout",
     "output_type": "stream",
     "text": [
      "Reading CSV from C:\\Users\\Joe.Pilny\\engineering-recruitment-assignments\\data-engineering\\datapipeline\\source-data\\results.csv\n"
     ]
    }
   ],
   "source": [
    "# Import raw data\n",
    "df_input = func_read_csv(input_file_name, v_source_path)"
   ]
  },
  {
   "cell_type": "code",
   "execution_count": 7,
   "id": "af62a941",
   "metadata": {
    "execution": {
     "iopub.execute_input": "2025-06-29T22:02:49.788410Z",
     "iopub.status.busy": "2025-06-29T22:02:49.788410Z",
     "iopub.status.idle": "2025-06-29T22:02:49.808870Z",
     "shell.execute_reply": "2025-06-29T22:02:49.807858Z"
    },
    "papermill": {
     "duration": 0.027659,
     "end_time": "2025-06-29T22:02:49.810869",
     "exception": false,
     "start_time": "2025-06-29T22:02:49.783210",
     "status": "completed"
    },
    "tags": []
   },
   "outputs": [
    {
     "name": "stdout",
     "output_type": "stream",
     "text": [
      "Writing CSV to C:\\Users\\Joe.Pilny\\engineering-recruitment-assignments\\data-engineering\\datapipeline\\results\\bronze\\results.csv\n"
     ]
    }
   ],
   "source": [
    "# Write to bronze layer\n",
    "func_write_csv(df_input, v_bronze_path, input_file_name)"
   ]
  }
 ],
 "metadata": {
  "kernelspec": {
   "display_name": "base",
   "language": "python",
   "name": "python3"
  },
  "language_info": {
   "codemirror_mode": {
    "name": "ipython",
    "version": 3
   },
   "file_extension": ".py",
   "mimetype": "text/x-python",
   "name": "python",
   "nbconvert_exporter": "python",
   "pygments_lexer": "ipython3",
   "version": "3.12.7"
  },
  "papermill": {
   "default_parameters": {},
   "duration": 6.72534,
   "end_time": "2025-06-29T22:02:50.169685",
   "environment_variables": {},
   "exception": null,
   "input_path": "Notebooks/NB_2_Bronze.ipynb",
   "output_path": "executed_Notebooks/NB_2_Bronze_run2.ipynb",
   "parameters": {
    "input_file_name": "results.csv"
   },
   "start_time": "2025-06-29T22:02:43.444345",
   "version": "2.6.0"
  }
 },
 "nbformat": 4,
 "nbformat_minor": 5
}